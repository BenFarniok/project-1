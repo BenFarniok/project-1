{
 "cells": [
  {
   "cell_type": "code",
   "execution_count": null,
   "metadata": {},
   "outputs": [],
   "source": [
    "# Dependencies and Setup\n",
    "import matplotlib.pyplot as plt\n",
    "import pandas as pd\n",
    "import numpy as np\n",
    "import requests\n",
    "import time\n",
    "from scipy.stats import linregress\n",
    "from datetime import date\n",
    "from scipy import stats\n",
    "\n",
    "# Import API key\n",
    "from api_keys import weather_api_key\n",
    "\n",
    "# Output File (CSV)\n",
    "#output_data_file = \"output_data/cities.csv\"\n",
    "\n",
    "# Range of latitudes and longitudes\n",
    "#lat_range = (-90, 90)\n",
    "#lng_range = (-180, 180)\n",
    "\n",
    "url = \"api.openweathermap.org/data/2.5/weather?\""
   ]
  },
  {
   "cell_type": "code",
   "execution_count": null,
   "metadata": {},
   "outputs": [],
   "source": [
    "# Build partial query URL \n",
    "query_url = f\"{url}appid={weather_api_key}&q=\" "
   ]
  },
  {
   "cell_type": "code",
   "execution_count": null,
   "metadata": {},
   "outputs": [],
   "source": [
    "# Create counties dataframe\n",
    "counties_df = pd.read_csv('output_data/counties.csv')\n",
    "counites_df.dropna(inplace = True) "
   ]
  },
  {
   "cell_type": "code",
   "execution_count": null,
   "metadata": {},
   "outputs": [],
   "source": [
    "# Perform API Calls\n",
    "# Perform a historical weather check on each county using a series of successive API calls.\n",
    "# Include a print log of each county as it'sbeing processed (with the city number and city name).\n",
    "\n",
    "# OpenWeatherMap API Key\n",
    "api_key = weather_api_key\n",
    "\n",
    "# Starting URL for Weather Map API Call\n",
    "url = \"http://api.openweathermap.org/data/2.5/weather?units=Imperial&APPID=\" + api_key \n",
    "\n",
    "# Create empty lists to append the API data into lists \n",
    "state = []\n",
    "county = []\n",
    "min_date = []\n",
    "max_date = []\n",
    "precipitation = []\n",
    "temperature = []\n",
    "water = []\n",
    "wind = []\n",
    "max_temp = []\n",
    "min_temp = []\n",
    "lat = []\n",
    "lon = []\n",
    "\n",
    "# Start the call counter \n",
    "record = 1\n",
    "\n",
    "# Log file print statement\n",
    "print(f\"Beginning Data Retrieval\")\n",
    "print(f\"-------------------------------\")\n",
    "\n",
    "#Loop through the cities in the city list \n",
    "for county in counties:  \n",
    "    \n",
    "    # Try statement to append calls where value is found \n",
    "\n",
    "    try: \n",
    "        response = requests.get(f\"{url}&q={county}\").json() \n",
    "        ST.append(response[\"state\"])\n",
    "        CNTY.append(response[\"name\"])\n",
    "        mindate.append(response[\"min_date\"])\n",
    "        maxdate.append(response[\"max_date\"])\n",
    "        PRCP.append(response[\"precipitation\"])\n",
    "        TEMP.append(response[\"temperature\"])\n",
    "        lat.append(response[\"coord\"][\"lat\"])\n",
    "        lng.append(response[\"coord\"][\"lon\"])\n",
    "        WATER.append(response[\"water\"])\n",
    "        WIND.append(response[\"wind\"])\n",
    "        HTMX.append(response[\"max_temp\"])\n",
    "        LTMN.append(response[\"min_temp\"])\n",
    "        county_record = response[\"name\"]\n",
    "        print(f\"Processing Record {record} | {county_record}\")\n",
    "        print(f\"{url}&q={county}\")\n",
    "        \n",
    "        # Increase counter by one \n",
    "        record= record + 1\n",
    "        \n",
    "        # Wait a second in loop to not over exceed rate limit of API\n",
    "        time.sleep(1.01)\n",
    "        \n",
    "    # If no record found \"skip\" to next call\n",
    "    except:\n",
    "        print(\"County not found. Skipping...\")\n",
    "    continue"
   ]
  },
  {
   "cell_type": "code",
   "execution_count": null,
   "metadata": {},
   "outputs": [],
   "source": [
    "# Create a dictonary with the lists generated\n",
    "weatherpy_dict = {\n",
    "    \"State\": state,\n",
    "    \"County\": county_name, \n",
    "    \"Start Date\": min_date, \n",
    "    \"End Date\": max_date,\n",
    "    \"Precipitation\": precipitation, \n",
    "    \"Temperature\": temperature, \n",
    "    \"Water\": water,\n",
    "    \"Wind\": wind, \n",
    "    \"Max Temp\": max_temp,\n",
    "    \"Min Temp\": min_temp, \n",
    "    \"Lat\":lat, \n",
    "    \"Lng\":lng\n",
    "}\n",
    "\n",
    "# Create a data frame from dictionary\n",
    "weather_data = pd.DataFrame(weatherpy_dict)\n",
    "\n",
    "# Display count of weather data values \n",
    "weather_data.count()"
   ]
  },
  {
   "cell_type": "code",
   "execution_count": 5,
   "metadata": {},
   "outputs": [
    {
     "ename": "NameError",
     "evalue": "name 'weather_2015_df' is not defined",
     "output_type": "error",
     "traceback": [
      "\u001b[0;31m---------------------------------------------------------------------------\u001b[0m",
      "\u001b[0;31mNameError\u001b[0m                                 Traceback (most recent call last)",
      "\u001b[0;32m<ipython-input-5-840270ce2de1>\u001b[0m in \u001b[0;36m<module>\u001b[0;34m\u001b[0m\n\u001b[0;32m----> 1\u001b[0;31m \u001b[0mweather_2015_df\u001b[0m\u001b[0;34m[\u001b[0m\u001b[0;34m'County'\u001b[0m\u001b[0;34m]\u001b[0m \u001b[0;34m=\u001b[0m \u001b[0;34m\"name\"\u001b[0m\u001b[0;34m\u001b[0m\u001b[0;34m\u001b[0m\u001b[0m\n\u001b[0m\u001b[1;32m      2\u001b[0m \u001b[0mweather_2015_df\u001b[0m\u001b[0;34m[\u001b[0m\u001b[0;34m'Start Date'\u001b[0m\u001b[0;34m]\u001b[0m \u001b[0;34m=\u001b[0m \u001b[0;34m\"mindate\"\u001b[0m\u001b[0;34m\u001b[0m\u001b[0;34m\u001b[0m\u001b[0m\n\u001b[1;32m      3\u001b[0m \u001b[0mweather_2015_df\u001b[0m\u001b[0;34m[\u001b[0m\u001b[0;34m'End Date'\u001b[0m\u001b[0;34m]\u001b[0m \u001b[0;34m=\u001b[0m \u001b[0;34m\"maxdate\"\u001b[0m\u001b[0;34m\u001b[0m\u001b[0;34m\u001b[0m\u001b[0m\n\u001b[1;32m      4\u001b[0m \u001b[0mweather_2015_df\u001b[0m\u001b[0;34m[\u001b[0m\u001b[0;34m'Precipitation'\u001b[0m\u001b[0;34m]\u001b[0m \u001b[0;34m=\u001b[0m \u001b[0;34m\"PRCP\"\u001b[0m\u001b[0;34m\u001b[0m\u001b[0;34m\u001b[0m\u001b[0m\n\u001b[1;32m      5\u001b[0m \u001b[0mweather_2015_df\u001b[0m\u001b[0;34m[\u001b[0m\u001b[0;34m'Air Temperature'\u001b[0m\u001b[0;34m]\u001b[0m \u001b[0;34m=\u001b[0m \u001b[0;34m\"TEMP\"\u001b[0m\u001b[0;34m\u001b[0m\u001b[0;34m\u001b[0m\u001b[0m\n",
      "\u001b[0;31mNameError\u001b[0m: name 'weather_2015_df' is not defined"
     ]
    }
   ],
   "source": [
    "# From fire DF\n",
    "# \"Started\" = mindate\n",
    "# \"Extinguised\" = maxdate\n",
    "\n",
    "weather_2015_df['State'] = \"ST\"\n",
    "weather_2015_df['County'] = \"CNTY\"\n",
    "weather_2015_df['Start Date'] = \"mindate\"\n",
    "weather_2015_df['End Date'] = \"maxdate\"\n",
    "weather_2015_df['Precipitation'] = \"PRCP\"\n",
    "weather_2015_df['Air Temperature'] = \"TEMP\"\n",
    "weather_2015_df['Water'] = \"WATER\"\n",
    "weather_2015_df['Wind'] = \"WIND\"\n",
    "weather_2015_df['Highest maximum temperature'] = \"HTMX\"\n",
    "weather_2015_df['Lowest minimum temperature'] = \"LTMN\"\n",
    "weather_2015_df.head()"
   ]
  },
  {
   "cell_type": "code",
   "execution_count": null,
   "metadata": {},
   "outputs": [],
   "source": [
    "#locationID = FIPS:06 \n",
    "\n",
    "# set up a parameters dictionary\n",
    "params = {\n",
    "    \"startdate\": start_date,\n",
    "    \"enddate\": end_date,\n",
    "    \"token\": token,\n",
    "    \"location\": locationID,\n",
    "    \"units\": standard \n",
    "}\n",
    "# use iterrows to iterate through pandas dataframe\n",
    "for index, row in weather_2015_df.iterrows():\n",
    "    locationID = \n",
    "    params[\"location\"] = (f\"{locationID}\")\n",
    "    # assemble url and make API request\n",
    "        print(f\"Retrieving Results for Index {index}: {County}.\")\n",
    "        response = requests.get(base_url, params=params).json()\n",
    "        print(response)  \n",
    "    # extract results\n",
    "        name = response['results'][0][\"name\"]\n",
    "        weather_2015.loc[index,'County'] = name   "
   ]
  },
  {
   "cell_type": "code",
   "execution_count": null,
   "metadata": {},
   "outputs": [],
   "source": [
    "# Create a Scatter Plot for temperature vs latitude - to show if lat/long has an impact (probably won't)\n",
    "x_values = weather_2015['Lat']\n",
    "y_values = weather_2015['Max Temp']\n",
    "plt.scatter(x_values, y_values, marker=\"o\", facecolors=\"red\", edgecolor=\"black\")\n",
    "plt.title(f'Fire Location vs. Temperature ')\n",
    "plt.xlabel('Latitude')\n",
    "plt.ylabel('Temperature')\n",
    "plt.grid(True)\n",
    "plt.savefig(\"output_data/lat_vs_temp.png\")\n",
    "plt.show()\n",
    "\n",
    "# Save the plot\n",
    "#plt.savefig(\"output_data/lat_vs_temp.png\")"
   ]
  },
  {
   "cell_type": "code",
   "execution_count": null,
   "metadata": {},
   "outputs": [],
   "source": [
    "# Create a Scatter Plot for temperature vs latitude - to show if lat/long has an impact (probably won't)\n",
    "x_values = weather_2018['Lat']\n",
    "y_values = weather_2018['Max Temp']\n",
    "plt.scatter(x_values, y_values, marker=\"o\", facecolors=\"red\", edgecolor=\"black\")\n",
    "plt.title(f'Fire Location vs. Temperature ')\n",
    "plt.xlabel('Latitude')\n",
    "plt.ylabel('Temperature')\n",
    "plt.grid(True)\n",
    "plt.savefig(\"output_data/lat_vs_temp.png\")\n",
    "plt.show()\n",
    "\n",
    "# Save the plot\n",
    "#plt.savefig(\"output_data/lat_vs_temp.png\")"
   ]
  },
  {
   "cell_type": "code",
   "execution_count": null,
   "metadata": {},
   "outputs": [],
   "source": [
    "# Create a Scatter Plot for fire location vs humidity\n",
    "x_values = weather_2015['Lat']\n",
    "y_values = weather_2015['Humidity']\n",
    "plt.scatter(x_values, y_values, marker=\"o\", facecolors=\"red\", edgecolor=\"black\")\n",
    "plt.title(f'Fire Location vs. Humidity {date_today}')\n",
    "plt.xlabel('Latitude')\n",
    "plt.ylabel('Humidity')\n",
    "plt.grid(True)\n",
    "plt.savefig(\"output_data/lat_vs_humidity.png\")\n",
    "plt.show()"
   ]
  },
  {
   "cell_type": "code",
   "execution_count": null,
   "metadata": {},
   "outputs": [],
   "source": [
    "# Create a Scatter Plot for fire location vs humidity\n",
    "x_values = weather_2018['Lat']\n",
    "y_values = weather_2018['Humidity']\n",
    "plt.scatter(x_values, y_values, marker=\"o\", facecolors=\"red\", edgecolor=\"black\")\n",
    "plt.title(f'Fire Location vs. Humidity {date_today}')\n",
    "plt.xlabel('Latitude')\n",
    "plt.ylabel('Humidity')\n",
    "plt.grid(True)\n",
    "plt.savefig(\"output_data/lat_vs_humidity.png\")\n",
    "plt.show()"
   ]
  },
  {
   "cell_type": "code",
   "execution_count": null,
   "metadata": {},
   "outputs": [],
   "source": [
    "# Create a Scatter Plot for fire size vs wind \n",
    "x_values = weather_2015['Lat']\n",
    "y_values = weather_2015['Wind Speed']\n",
    "plt.scatter(x_values, y_values, marker=\"o\", facecolors=\"red\", edgecolor=\"black\")\n",
    "plt.title(f'Fire Size vs. Wind Speed {date_today}')\n",
    "plt.xlabel('Fire Size')\n",
    "plt.ylabel('Wind Speed')\n",
    "plt.grid(True)\n",
    "plt.savefig(\"output_data/lat_vs_wind_speed.png\")\n",
    "plt.show()"
   ]
  },
  {
   "cell_type": "code",
   "execution_count": null,
   "metadata": {},
   "outputs": [],
   "source": [
    "# Create a Scatter Plot for fire size vs wind \n",
    "x_values = weather_2018['Lat']\n",
    "y_values = weather_2018['Wind Speed']\n",
    "plt.scatter(x_values, y_values, marker=\"o\", facecolors=\"red\", edgecolor=\"black\")\n",
    "plt.title(f'Fire Size vs. Wind Speed {date_today}')\n",
    "plt.xlabel('Fire Size')\n",
    "plt.ylabel('Wind Speed')\n",
    "plt.grid(True)\n",
    "plt.savefig(\"output_data/lat_vs_wind_speed.png\")\n",
    "plt.show()"
   ]
  }
 ],
 "metadata": {
  "kernelspec": {
   "display_name": "Python 3",
   "language": "python",
   "name": "python3"
  },
  "language_info": {
   "codemirror_mode": {
    "name": "ipython",
    "version": 3
   },
   "file_extension": ".py",
   "mimetype": "text/x-python",
   "name": "python",
   "nbconvert_exporter": "python",
   "pygments_lexer": "ipython3",
   "version": "3.7.7"
  }
 },
 "nbformat": 4,
 "nbformat_minor": 4
}
