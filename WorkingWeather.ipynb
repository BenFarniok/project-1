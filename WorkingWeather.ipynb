{
 "cells": [
  {
   "cell_type": "code",
   "execution_count": null,
   "metadata": {},
   "outputs": [],
   "source": [
    "# Dependencies and Setup\n",
    "import matplotlib.pyplot as plt\n",
    "import pandas as pd\n",
    "import numpy as np\n",
    "import requests\n",
    "import gmaps\n",
    "import os\n",
    "import gmaps.datasets\n",
    "\n",
    "# Import API key\n",
    "from api_keys import gkey\n",
    "token = "
   ]
  },
  {
   "cell_type": "code",
   "execution_count": 5,
   "metadata": {},
   "outputs": [
    {
     "ename": "NameError",
     "evalue": "name 'weather_2015_df' is not defined",
     "output_type": "error",
     "traceback": [
      "\u001b[0;31m---------------------------------------------------------------------------\u001b[0m",
      "\u001b[0;31mNameError\u001b[0m                                 Traceback (most recent call last)",
      "\u001b[0;32m<ipython-input-5-840270ce2de1>\u001b[0m in \u001b[0;36m<module>\u001b[0;34m\u001b[0m\n\u001b[0;32m----> 1\u001b[0;31m \u001b[0mweather_2015_df\u001b[0m\u001b[0;34m[\u001b[0m\u001b[0;34m'County'\u001b[0m\u001b[0;34m]\u001b[0m \u001b[0;34m=\u001b[0m \u001b[0;34m\"name\"\u001b[0m\u001b[0;34m\u001b[0m\u001b[0;34m\u001b[0m\u001b[0m\n\u001b[0m\u001b[1;32m      2\u001b[0m \u001b[0mweather_2015_df\u001b[0m\u001b[0;34m[\u001b[0m\u001b[0;34m'Start Date'\u001b[0m\u001b[0;34m]\u001b[0m \u001b[0;34m=\u001b[0m \u001b[0;34m\"mindate\"\u001b[0m\u001b[0;34m\u001b[0m\u001b[0;34m\u001b[0m\u001b[0m\n\u001b[1;32m      3\u001b[0m \u001b[0mweather_2015_df\u001b[0m\u001b[0;34m[\u001b[0m\u001b[0;34m'End Date'\u001b[0m\u001b[0;34m]\u001b[0m \u001b[0;34m=\u001b[0m \u001b[0;34m\"maxdate\"\u001b[0m\u001b[0;34m\u001b[0m\u001b[0;34m\u001b[0m\u001b[0m\n\u001b[1;32m      4\u001b[0m \u001b[0mweather_2015_df\u001b[0m\u001b[0;34m[\u001b[0m\u001b[0;34m'Precipitation'\u001b[0m\u001b[0;34m]\u001b[0m \u001b[0;34m=\u001b[0m \u001b[0;34m\"PRCP\"\u001b[0m\u001b[0;34m\u001b[0m\u001b[0;34m\u001b[0m\u001b[0m\n\u001b[1;32m      5\u001b[0m \u001b[0mweather_2015_df\u001b[0m\u001b[0;34m[\u001b[0m\u001b[0;34m'Air Temperature'\u001b[0m\u001b[0;34m]\u001b[0m \u001b[0;34m=\u001b[0m \u001b[0;34m\"TEMP\"\u001b[0m\u001b[0;34m\u001b[0m\u001b[0;34m\u001b[0m\u001b[0m\n",
      "\u001b[0;31mNameError\u001b[0m: name 'weather_2015_df' is not defined"
     ]
    }
   ],
   "source": [
    "# From fire DF\n",
    "# \"Started\" = mindate\n",
    "# \"Extinguised\" = maxdate\n",
    "\n",
    "weather_2015_df['State'] = \"ST\"\n",
    "weather_2015_df['County'] = \"CNTY\"\n",
    "weather_2015_df['Start Date'] = \"mindate\"\n",
    "weather_2015_df['End Date'] = \"maxdate\"\n",
    "weather_2015_df['Precipitation'] = \"PRCP\"\n",
    "weather_2015_df['Air Temperature'] = \"TEMP\"\n",
    "weather_2015_df['Water'] = \"WATER\"\n",
    "weather_2015_df['Wind'] = \"WIND\"\n",
    "weather_2015_df['Highest maximum temperature'] = \"HTMX\"\n",
    "weather_2015_df['Lowest minimum temperature'] = \"LTMN\"\n",
    "weather_2015_df.head()"
   ]
  },
  {
   "cell_type": "code",
   "execution_count": null,
   "metadata": {},
   "outputs": [],
   "source": [
    "#locationID = FIPS:06 \n",
    "\n",
    "# set up a parameters dictionary\n",
    "params = {\n",
    "    \"startdate\": start_date,\n",
    "    \"enddate\": end_date,\n",
    "    \"token\": token,\n",
    "    \"location\": locationID,\n",
    "    \"units\": standard \n",
    "}\n",
    "# use iterrows to iterate through pandas dataframe\n",
    "for index, row in weather_2015_df.iterrows():\n",
    "    locationID = \n",
    "    params[\"location\"] = (f\"{locationID}\")\n",
    "    # assemble url and make API request\n",
    "        print(f\"Retrieving Results for Index {index}: {County}.\")\n",
    "        response = requests.get(base_url, params=params).json()\n",
    "        print(response)  \n",
    "    # extract results\n",
    "        name = response['results'][0][\"name\"]\n",
    "        weather_2015.loc[index,'County'] = name   "
   ]
  }
 ],
 "metadata": {
  "kernelspec": {
   "display_name": "Python 3",
   "language": "python",
   "name": "python3"
  },
  "language_info": {
   "codemirror_mode": {
    "name": "ipython",
    "version": 3
   },
   "file_extension": ".py",
   "mimetype": "text/x-python",
   "name": "python",
   "nbconvert_exporter": "python",
   "pygments_lexer": "ipython3",
   "version": "3.7.7"
  }
 },
 "nbformat": 4,
 "nbformat_minor": 4
}
