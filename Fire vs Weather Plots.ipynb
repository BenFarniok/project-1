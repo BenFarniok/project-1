{
 "cells": [
  {
   "cell_type": "code",
   "execution_count": 1,
   "metadata": {},
   "outputs": [],
   "source": [
    "# Dependencies and Setup\n",
    "import requests\n",
    "import json\n",
    "import matplotlib.pyplot as plt\n",
    "import pandas as pd\n",
    "import numpy as np\n",
    "import requests\n",
    "import time\n",
    "from scipy.stats import linregress\n",
    "from datetime import date\n",
    "from scipy import stats\n"
   ]
  },
  {
   "cell_type": "code",
   "execution_count": null,
   "metadata": {},
   "outputs": [],
   "source": [
    "# Create a Scatter Plot for temperature vs fire location - to show if lat/long has an impact (probably won't)\n",
    "x_values = weather_2013['Lat']\n",
    "y_values = weather_2013['Max Temp']\n",
    "plt.scatter(x_values, y_values, marker=\"o\", facecolors=\"red\", edgecolor=\"black\")\n",
    "plt.title(f'Fire Location vs. Temperature')\n",
    "plt.xlabel('Latitude')\n",
    "plt.ylabel('Temperature')\n",
    "plt.grid(True)\n",
    "plt.savefig(\"output_data/location_vs_temp_2013.png\")\n",
    "plt.show()"
   ]
  },
  {
   "cell_type": "code",
   "execution_count": null,
   "metadata": {},
   "outputs": [],
   "source": [
    "# Create a Scatter Plot for temperature vs fire location - to show if lat/long has an impact (probably won't)\n",
    "x_values = weather_2015['Lat']\n",
    "y_values = weather_2015['Max Temp']\n",
    "plt.scatter(x_values, y_values, marker=\"o\", facecolors=\"red\", edgecolor=\"black\")\n",
    "plt.title(f'Fire Location vs. Temperature')\n",
    "plt.xlabel('Latitude')\n",
    "plt.ylabel('Temperature')\n",
    "plt.grid(True)\n",
    "plt.savefig(\"output_data/location_vs_temp_2015.png\")\n",
    "plt.show()"
   ]
  },
  {
   "cell_type": "code",
   "execution_count": null,
   "metadata": {},
   "outputs": [],
   "source": [
    "# Create a Scatter Plot for temperature vs fire location - to show if lat/long has an impact (probably won't)\n",
    "x_values = weather_2018['Lat']\n",
    "y_values = weather_2018['Max Temp']\n",
    "plt.scatter(x_values, y_values, marker=\"o\", facecolors=\"red\", edgecolor=\"black\")\n",
    "plt.title(f'Fire Location vs. Temperature ')\n",
    "plt.xlabel('Latitude')\n",
    "plt.ylabel('Temperature')\n",
    "plt.grid(True)\n",
    "plt.savefig(\"output_data/location_vs_temp_2018.png\")\n",
    "plt.show()"
   ]
  },
  {
   "cell_type": "code",
   "execution_count": null,
   "metadata": {},
   "outputs": [],
   "source": [
    "# Create a Scatter Plot for fire location vs humidity\n",
    "x_values = weather_2013['Lat']\n",
    "y_values = weather_2013['Humidity']\n",
    "plt.scatter(x_values, y_values, marker=\"o\", facecolors=\"red\", edgecolor=\"black\")\n",
    "plt.title(f'Fire Location vs. Humidity')\n",
    "plt.xlabel('Latitude')\n",
    "plt.ylabel('Humidity')\n",
    "plt.grid(True)\n",
    "plt.savefig(\"output_data/location_vs_humidty_2013.png\")\n",
    "plt.show()"
   ]
  },
  {
   "cell_type": "code",
   "execution_count": null,
   "metadata": {},
   "outputs": [],
   "source": [
    "# Create a Scatter Plot for fire location vs humidity\n",
    "x_values = weather_2015['Lat']\n",
    "y_values = weather_2015['Humidity']\n",
    "plt.scatter(x_values, y_values, marker=\"o\", facecolors=\"red\", edgecolor=\"black\")\n",
    "plt.title(f'Fire Location vs. Humidity {date_today}')\n",
    "plt.xlabel('Latitude')\n",
    "plt.ylabel('Humidity')\n",
    "plt.grid(True)\n",
    "plt.savefig(\"output_data/location_vs_humidty_2015.png\")\n",
    "plt.show()"
   ]
  },
  {
   "cell_type": "code",
   "execution_count": null,
   "metadata": {},
   "outputs": [],
   "source": [
    "# Create a Scatter Plot for fire location vs humidity\n",
    "x_values = weather_2018['Lat']\n",
    "y_values = weather_2018['Humidity']\n",
    "plt.scatter(x_values, y_values, marker=\"o\", facecolors=\"red\", edgecolor=\"black\")\n",
    "plt.title(f'Fire Location vs. Humidity {date_today}')\n",
    "plt.xlabel('Latitude')\n",
    "plt.ylabel('Humidity')\n",
    "plt.grid(True)\n",
    "plt.savefig(\"output_data/location_vs_humidty_2018.png\")\n",
    "plt.show()"
   ]
  },
  {
   "cell_type": "code",
   "execution_count": null,
   "metadata": {},
   "outputs": [],
   "source": [
    "# Create a Scatter Plot for fire size vs wind \n",
    "x_values = weather_2013['Acres Burned']\n",
    "y_values = weather_2013['Wind Speed']\n",
    "plt.scatter(x_values, y_values, marker=\"o\", facecolors=\"red\", edgecolor=\"black\")\n",
    "plt.title(f'Acres Burned vs. Wind Speed')\n",
    "plt.xlabel('Acres Burned')\n",
    "plt.ylabel('Wind Speed')\n",
    "plt.grid(True)\n",
    "plt.savefig(\"output_data/fire_size_vs_wind_speed_2013.png\")\n",
    "plt.show()"
   ]
  },
  {
   "cell_type": "code",
   "execution_count": null,
   "metadata": {},
   "outputs": [],
   "source": [
    "# Create a Scatter Plot for fire size vs wind \n",
    "x_values = weather_2015['Acres Burned']\n",
    "y_values = weather_2015['Wind Speed']\n",
    "plt.scatter(x_values, y_values, marker=\"o\", facecolors=\"red\", edgecolor=\"black\")\n",
    "plt.title(f'Acres Burned vs. Wind Speed')\n",
    "plt.xlabel('Acres Burned')\n",
    "plt.ylabel('Wind Speed')\n",
    "plt.grid(True)\n",
    "plt.savefig(\"output_data/fire_size_vs_wind_speed_2015.png\")\n",
    "plt.show()"
   ]
  },
  {
   "cell_type": "code",
   "execution_count": null,
   "metadata": {},
   "outputs": [],
   "source": [
    "# Create a Scatter Plot for fire size vs wind \n",
    "x_values = weather_2018['Acres Burned']\n",
    "y_values = weather_2018['Wind Speed']\n",
    "plt.scatter(x_values, y_values, marker=\"o\", facecolors=\"red\", edgecolor=\"black\")\n",
    "plt.title(f'Acres Burned vs. Wind Speed')\n",
    "plt.xlabel('Acres Burned')\n",
    "plt.ylabel('Wind Speed')\n",
    "plt.grid(True)\n",
    "plt.savefig(\"output_data/fire_size_vs_wind_speed_2018.png\")\n",
    "plt.show()"
   ]
  },
  {
   "cell_type": "code",
   "execution_count": null,
   "metadata": {},
   "outputs": [],
   "source": [
    "# Create a Scatter Plot for fire size vs wind gust\n",
    "x_values = weather_2013['Acres Burned']\n",
    "y_values = weather_2013['Wind Gust']\n",
    "plt.scatter(x_values, y_values, marker=\"o\", facecolors=\"red\", edgecolor=\"black\")\n",
    "plt.title(f'Acres Burned vs. Wind Gust')\n",
    "plt.xlabel('Acres Burned')\n",
    "plt.ylabel('Wind Gust')\n",
    "plt.grid(True)\n",
    "plt.savefig(\"output_data/fire_size_vs_wind_gust_2013.png\")\n",
    "plt.show()"
   ]
  },
  {
   "cell_type": "code",
   "execution_count": null,
   "metadata": {},
   "outputs": [],
   "source": [
    "# Create a Scatter Plot for fire size vs wind gust\n",
    "x_values = weather_2015['Acres Burned']\n",
    "y_values = weather_2015['Wind Gust']\n",
    "plt.scatter(x_values, y_values, marker=\"o\", facecolors=\"red\", edgecolor=\"black\")\n",
    "plt.title(f'Acres Burned vs. Wind Gust')\n",
    "plt.xlabel('Acres Burned')\n",
    "plt.ylabel('Wind Gust')\n",
    "plt.grid(True)\n",
    "plt.savefig(\"output_data/fire_size_vs_wind_gust_2015.png\")\n",
    "plt.show()"
   ]
  },
  {
   "cell_type": "code",
   "execution_count": null,
   "metadata": {},
   "outputs": [],
   "source": [
    "# Create a Scatter Plot for fire size vs wind gust\n",
    "x_values = weather_2018['Acres Burned']\n",
    "y_values = weather_2018['Wind Gust']\n",
    "plt.scatter(x_values, y_values, marker=\"o\", facecolors=\"red\", edgecolor=\"black\")\n",
    "plt.title(f'Acres Burned vs. Wind Gust')\n",
    "plt.xlabel('Acres Burned')\n",
    "plt.ylabel('Wind Speed')\n",
    "plt.grid(True)\n",
    "plt.savefig(\"output_data/fire_size_vs_wind_gust_2018.png\")\n",
    "plt.show()"
   ]
  },
  {
   "cell_type": "code",
   "execution_count": null,
   "metadata": {},
   "outputs": [],
   "source": [
    "# Create a Scatter Plot for start date vs humidity\n",
    "x_values = weather_2013['Fire Started']\n",
    "y_values = weather_2013['Humidity']\n",
    "plt.scatter(x_values, y_values, marker=\"o\", facecolors=\"red\", edgecolor=\"black\")\n",
    "plt.title(f'Fire Started vs. Humidity')\n",
    "plt.xlabel('Fire Started')\n",
    "plt.ylabel('Humidity')\n",
    "plt.grid(True)\n",
    "plt.savefig(\"output_data/start_date_vs_humidity_2013.png\")\n",
    "plt.show()"
   ]
  },
  {
   "cell_type": "code",
   "execution_count": null,
   "metadata": {},
   "outputs": [],
   "source": [
    "# Create a Scatter Plot for start date vs humidity\n",
    "x_values = weather_2015['Fire Started']\n",
    "y_values = weather_2015['Humidity']\n",
    "plt.scatter(x_values, y_values, marker=\"o\", facecolors=\"red\", edgecolor=\"black\")\n",
    "plt.title(f'Fire Started vs. Humidity')\n",
    "plt.xlabel('Fire Started')\n",
    "plt.ylabel('Humidity')\n",
    "plt.grid(True)\n",
    "plt.savefig(\"output_data/start_date_vs_humidity_2015.png\")\n",
    "plt.show()"
   ]
  },
  {
   "cell_type": "code",
   "execution_count": null,
   "metadata": {},
   "outputs": [],
   "source": [
    "# Create a Scatter Plot for start date vs humidity\n",
    "x_values = weather_2018['Fire Started']\n",
    "y_values = weather_2018['Humidity']\n",
    "plt.scatter(x_values, y_values, marker=\"o\", facecolors=\"red\", edgecolor=\"black\")\n",
    "plt.title(f'Fire Started vs. Humidity')\n",
    "plt.xlabel('Fire Started')\n",
    "plt.ylabel('Humidity')\n",
    "plt.grid(True)\n",
    "plt.savefig(\"output_data/start_date_vs_humidity_2018.png\")\n",
    "plt.show()"
   ]
  },
  {
   "cell_type": "code",
   "execution_count": null,
   "metadata": {},
   "outputs": [],
   "source": [
    "# Create a Scatter Plot for temperature vs start date - to show if temperature affects fire breaking out\n",
    "x_values = weather_2013['Fire Started']\n",
    "y_values = weather_2013['Max Temp']\n",
    "plt.scatter(x_values, y_values, marker=\"o\", facecolors=\"red\", edgecolor=\"black\")\n",
    "plt.title(f'Fire Started vs. Max Temperature')\n",
    "plt.xlabel('Fires Started')\n",
    "plt.ylabel('Max Temp')\n",
    "plt.grid(True)\n",
    "plt.savefig(\"output_data/start_date_vs_temp_2013.png\")\n",
    "plt.show()"
   ]
  },
  {
   "cell_type": "code",
   "execution_count": null,
   "metadata": {},
   "outputs": [],
   "source": [
    "# Create a Scatter Plot for temperature vs start date - to show if temperature affects fire breaking out\n",
    "x_values = weather_2015['Fire Started']\n",
    "y_values = weather_2015['Max Temp']\n",
    "plt.scatter(x_values, y_values, marker=\"o\", facecolors=\"red\", edgecolor=\"black\")\n",
    "plt.title(f'Fire Started vs. Max Temperature')\n",
    "plt.xlabel('Fire Started')\n",
    "plt.ylabel('Max Temp')\n",
    "plt.grid(True)\n",
    "plt.savefig(\"output_data/start_date_vs_temp_2015.png\")\n",
    "plt.show()"
   ]
  },
  {
   "cell_type": "code",
   "execution_count": null,
   "metadata": {},
   "outputs": [],
   "source": [
    "# Create a Scatter Plot for temperature vs start date - to show if temperature affects fire breaking out\n",
    "x_values = weather_2018['Fire Started']\n",
    "y_values = weather_2018['Max Temp']\n",
    "plt.scatter(x_values, y_values, marker=\"o\", facecolors=\"red\", edgecolor=\"black\")\n",
    "plt.title(f'Fire Started vs. Max Temperature')\n",
    "plt.xlabel('Fire Started')\n",
    "plt.ylabel('Max Temp')\n",
    "plt.grid(True)\n",
    "plt.savefig(\"output_data/start_date_vs_temp_2018.png\")\n",
    "plt.show()"
   ]
  },
  {
   "cell_type": "code",
   "execution_count": null,
   "metadata": {},
   "outputs": [],
   "source": [
    "# Create a Scatter Plot for wind speed vs start date - to show if temperature affects fire breaking out\n",
    "x_values = weather_2013['Fire Started']\n",
    "y_values = weather_2013['Wind Speed']\n",
    "plt.scatter(x_values, y_values, marker=\"o\", facecolors=\"red\", edgecolor=\"black\")\n",
    "plt.title(f'Fire Started vs. Wind Speed')\n",
    "plt.xlabel('Fire Started')\n",
    "plt.ylabel('Wind Speed')\n",
    "plt.grid(True)\n",
    "plt.savefig(\"output_data/start_date_vs_wind_2013.png\")\n",
    "plt.show()"
   ]
  },
  {
   "cell_type": "code",
   "execution_count": null,
   "metadata": {},
   "outputs": [],
   "source": [
    "# Create a Scatter Plot for wind speed vs start date - to show if temperature affects fire breaking out\n",
    "x_values = weather_2015['Fire Started']\n",
    "y_values = weather_2015['Wind Speed']\n",
    "plt.scatter(x_values, y_values, marker=\"o\", facecolors=\"red\", edgecolor=\"black\")\n",
    "plt.title(f'Fire Started vs. Wind Speed')\n",
    "plt.xlabel('Fire Started')\n",
    "plt.ylabel('Wind Speed')\n",
    "plt.grid(True)\n",
    "plt.savefig(\"output_data/start_date_vs_wind_2015.png\")\n",
    "plt.show()"
   ]
  },
  {
   "cell_type": "code",
   "execution_count": null,
   "metadata": {},
   "outputs": [],
   "source": [
    "# Create a Scatter Plot for wind speed vs start date - to show if temperature affects fire breaking out\n",
    "x_values = weather_2018['Fire Started']\n",
    "y_values = weather_2018['Wind Speed']\n",
    "plt.scatter(x_values, y_values, marker=\"o\", facecolors=\"red\", edgecolor=\"black\")\n",
    "plt.title(f'Fire Started vs. Wind Speed')\n",
    "plt.xlabel('Fire Started Date')\n",
    "plt.ylabel('Wind Speed')\n",
    "plt.grid(True)\n",
    "plt.savefig(\"output_data/start_date_vs_wind_2018.png\")\n",
    "plt.show()"
   ]
  }
 ],
 "metadata": {
  "kernelspec": {
   "display_name": "Python 3",
   "language": "python",
   "name": "python3"
  },
  "language_info": {
   "codemirror_mode": {
    "name": "ipython",
    "version": 3
   },
   "file_extension": ".py",
   "mimetype": "text/x-python",
   "name": "python",
   "nbconvert_exporter": "python",
   "pygments_lexer": "ipython3",
   "version": "3.8.2"
  }
 },
 "nbformat": 4,
 "nbformat_minor": 4
}
