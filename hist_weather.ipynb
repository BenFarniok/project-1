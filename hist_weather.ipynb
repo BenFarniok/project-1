{
 "cells": [
  {
   "cell_type": "code",
   "execution_count": 34,
   "metadata": {},
   "outputs": [],
   "source": [
    "# Dependencies and Setup\n",
    "import matplotlib.pyplot as plt\n",
    "import pandas as pd\n",
    "import numpy as np\n",
    "import requests\n",
    "import gmaps\n",
    "import os\n",
    "import gmaps.datasets\n",
    "# Import API key\n",
    "#from api_keys import gkey\n"
   ]
  },
  {
   "cell_type": "code",
   "execution_count": 38,
   "metadata": {},
   "outputs": [
    {
     "name": "stdout",
     "output_type": "stream",
     "text": [
      "\n",
      "\n",
      "Retrieving weather data for california\n",
      "\n",
      "\n",
      "Currently retrieving data for california: from 2010-01-01 to 2010-01-31\n",
      "Time elapsed (hh:mm:ss.ms) 0:00:01.630106\n",
      "Currently retrieving data for california: from 2010-02-01 to 2010-02-28\n",
      "Time elapsed (hh:mm:ss.ms) 0:00:03.304739\n",
      "Currently retrieving data for california: from 2010-03-01 to 2010-03-31\n",
      "Time elapsed (hh:mm:ss.ms) 0:00:04.489957\n",
      "Currently retrieving data for california: from 2010-04-01 to 2010-04-30\n",
      "Time elapsed (hh:mm:ss.ms) 0:00:05.515080\n",
      "Currently retrieving data for california: from 2010-05-01 to 2010-05-31\n",
      "Time elapsed (hh:mm:ss.ms) 0:00:06.850068\n",
      "Currently retrieving data for california: from 2010-06-01 to 2010-06-30\n",
      "Time elapsed (hh:mm:ss.ms) 0:00:07.980200\n",
      "Currently retrieving data for california: from 2010-07-01 to 2010-07-31\n",
      "Time elapsed (hh:mm:ss.ms) 0:00:09.005199\n",
      "Currently retrieving data for california: from 2010-08-01 to 2010-08-31\n",
      "Time elapsed (hh:mm:ss.ms) 0:00:10.065882\n",
      "Currently retrieving data for california: from 2010-09-01 to 2010-09-30\n",
      "Time elapsed (hh:mm:ss.ms) 0:00:11.120060\n",
      "Currently retrieving data for california: from 2010-10-01 to 2010-10-31\n",
      "Time elapsed (hh:mm:ss.ms) 0:00:12.285198\n",
      "Currently retrieving data for california: from 2010-11-01 to 2010-11-30\n",
      "Time elapsed (hh:mm:ss.ms) 0:00:13.377826\n",
      "Currently retrieving data for california: from 2010-12-01 to 2010-12-31\n",
      "Time elapsed (hh:mm:ss.ms) 0:00:14.410131\n",
      "Currently retrieving data for california: from 2010-12-01 to 2010-12-31\n",
      "Time elapsed (hh:mm:ss.ms) 0:00:15.190184\n",
      "\n",
      "\n",
      "export california completed!\n",
      "\n",
      "\n"
     ]
    }
   ],
   "source": [
    "from wwo_hist import retrieve_hist_data\n",
    "frequency=24\n",
    "start_date = '01-JAN-2010'\n",
    "end_date = '31-DEC-2010'\n",
    "api_key = 'ab7ca87a4f454f2583001034202104'\n",
    "location_list = ['california']\n",
    "\n",
    "hist_weather_data_2010 = retrieve_hist_data(api_key,\n",
    "                                location_list,\n",
    "                                start_date,\n",
    "                                end_date,\n",
    "                                frequency,\n",
    "                                location_label = False,\n",
    "                                export_csv = True,\n",
    "                                store_df = True)"
   ]
  },
  {
   "cell_type": "code",
   "execution_count": null,
   "metadata": {},
   "outputs": [],
   "source": []
  },
  {
   "cell_type": "code",
   "execution_count": null,
   "metadata": {},
   "outputs": [],
   "source": []
  }
 ],
 "metadata": {
  "kernelspec": {
   "display_name": "Python 3",
   "language": "python",
   "name": "python3"
  },
  "language_info": {
   "codemirror_mode": {
    "name": "ipython",
    "version": 3
   },
   "file_extension": ".py",
   "mimetype": "text/x-python",
   "name": "python",
   "nbconvert_exporter": "python",
   "pygments_lexer": "ipython3",
   "version": "3.6.10"
  }
 },
 "nbformat": 4,
 "nbformat_minor": 4
}
