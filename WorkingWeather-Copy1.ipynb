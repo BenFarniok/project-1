{
 "cells": [
  {
   "cell_type": "code",
   "execution_count": 1,
   "metadata": {},
   "outputs": [],
   "source": [
    "# Dependencies and Setup\n",
    "import requests\n",
    "import json\n",
    "import matplotlib.pyplot as plt\n",
    "import pandas as pd\n",
    "import numpy as np\n",
    "import requests\n",
    "import time\n",
    "from scipy.stats import linregress\n",
    "from datetime import date\n",
    "from scipy import stats\n"
   ]
  },
  {
   "cell_type": "code",
   "execution_count": 2,
   "metadata": {},
   "outputs": [],
   "source": [
    "# Create empty lists to append the API data into lists \n",
    "state = []\n",
    "county = []\n",
    "min_date = []\n",
    "max_date = []\n",
    "precipitation = []\n",
    "temperature = []\n",
    "water = []\n",
    "wind = []\n",
    "max_temp = []\n",
    "min_temp = []\n",
    "lat = []\n",
    "lng = []"
   ]
  },
  {
   "cell_type": "code",
   "execution_count": null,
   "metadata": {},
   "outputs": [],
   "source": []
  },
  {
   "cell_type": "code",
   "execution_count": null,
   "metadata": {},
   "outputs": [],
   "source": [
    "# Create a dictonary with the lists generated\n",
    "weatherpy_dict = {\n",
    "    \"State\": state,\n",
    "    \"County\": county_name, \n",
    "    \"Start Date\": min_date, \n",
    "    \"End Date\": max_date,\n",
    "    \"Precipitation\": precipitation, \n",
    "    \"Temperature\": temperature, \n",
    "    \"Water\": water,\n",
    "    \"Wind\": wind, \n",
    "    \"Max Temp\": max_temp,\n",
    "    \"Min Temp\": min_temp, \n",
    "    \"Lat\":lat, \n",
    "    \"Lng\":lng\n",
    "}\n",
    "\n",
    "# Create a data frame from dictionary\n",
    "weather_data = pd.DataFrame(weatherpy_dict)\n",
    "\n",
    "# Display count of weather data values \n",
    "weather_data.count()"
   ]
  },
  {
   "cell_type": "code",
   "execution_count": null,
   "metadata": {},
   "outputs": [],
   "source": [
    "# From fire DF\n",
    "# \"Started\" = mindate\n",
    "# \"Extinguised\" = maxdate\n",
    "\n",
    "weather_2015_df['State'] = \"ST\"\n",
    "weather_2015_df['County'] = \"CNTY\"\n",
    "weather_2015_df['Start Date'] = \"mindate\"\n",
    "weather_2015_df['End Date'] = \"maxdate\"\n",
    "weather_2015_df['Precipitation'] = \"PRCP\"\n",
    "weather_2015_df['Air Temperature'] = \"TEMP\"\n",
    "weather_2015_df['Water'] = \"WATER\"\n",
    "weather_2015_df['Wind'] = \"WIND\"\n",
    "weather_2015_df['Highest maximum temperature'] = \"HTMX\"\n",
    "weather_2015_df['Lowest minimum temperature'] = \"LTMN\"\n",
    "weather_2015_df.head()"
   ]
  },
  {
   "cell_type": "code",
   "execution_count": null,
   "metadata": {},
   "outputs": [],
   "source": [
    "#locationID = FIPS:06 \n",
    "\n",
    "# set up a parameters dictionary\n",
    "params = {\n",
    "    \"startdate\": start_date,\n",
    "    \"enddate\": end_date,\n",
    "    \"token\": token,\n",
    "    \"location\": locationID,\n",
    "    \"units\": standard \n",
    "}\n",
    "# use iterrows to iterate through pandas dataframe\n",
    "for index, row in weather_2015_df.iterrows():\n",
    "    locationID = \n",
    "    params[\"location\"] = (f\"{locationID}\")\n",
    "    # assemble url and make API request\n",
    "        print(f\"Retrieving Results for Index {index}: {County}.\")\n",
    "        response = requests.get(base_url, params=params).json()\n",
    "        print(response)  \n",
    "    # extract results\n",
    "        name = response['results'][0][\"name\"]\n",
    "        weather_2015.loc[index,'County'] = name   "
   ]
  },
  {
   "cell_type": "code",
   "execution_count": null,
   "metadata": {},
   "outputs": [],
   "source": [
    "# Create a Scatter Plot for temperature vs latitude - to show if lat/long has an impact (probably won't)\n",
    "x_values = weather_2015['Lat']\n",
    "y_values = weather_2015['Max Temp']\n",
    "plt.scatter(x_values, y_values, marker=\"o\", facecolors=\"red\", edgecolor=\"black\")\n",
    "plt.title(f'Fire Location vs. Temperature ')\n",
    "plt.xlabel('Latitude')\n",
    "plt.ylabel('Temperature')\n",
    "plt.grid(True)\n",
    "plt.savefig(\"output_data/lat_vs_temp.png\")\n",
    "plt.show()\n",
    "\n",
    "# Save the plot\n",
    "#plt.savefig(\"output_data/lat_vs_temp.png\")"
   ]
  },
  {
   "cell_type": "code",
   "execution_count": null,
   "metadata": {},
   "outputs": [],
   "source": [
    "# Create a Scatter Plot for temperature vs latitude - to show if lat/long has an impact (probably won't)\n",
    "x_values = weather_2018['Lat']\n",
    "y_values = weather_2018['Max Temp']\n",
    "plt.scatter(x_values, y_values, marker=\"o\", facecolors=\"red\", edgecolor=\"black\")\n",
    "plt.title(f'Fire Location vs. Temperature ')\n",
    "plt.xlabel('Latitude')\n",
    "plt.ylabel('Temperature')\n",
    "plt.grid(True)\n",
    "plt.savefig(\"output_data/lat_vs_temp.png\")\n",
    "plt.show()\n",
    "\n",
    "# Save the plot\n",
    "#plt.savefig(\"output_data/lat_vs_temp.png\")"
   ]
  },
  {
   "cell_type": "code",
   "execution_count": null,
   "metadata": {},
   "outputs": [],
   "source": [
    "# Create a Scatter Plot for fire location vs humidity\n",
    "x_values = weather_2015['Lat']\n",
    "y_values = weather_2015['Humidity']\n",
    "plt.scatter(x_values, y_values, marker=\"o\", facecolors=\"red\", edgecolor=\"black\")\n",
    "plt.title(f'Fire Location vs. Humidity {date_today}')\n",
    "plt.xlabel('Latitude')\n",
    "plt.ylabel('Humidity')\n",
    "plt.grid(True)\n",
    "plt.savefig(\"output_data/lat_vs_humidity.png\")\n",
    "plt.show()"
   ]
  },
  {
   "cell_type": "code",
   "execution_count": null,
   "metadata": {},
   "outputs": [],
   "source": [
    "# Create a Scatter Plot for fire location vs humidity\n",
    "x_values = weather_2018['Lat']\n",
    "y_values = weather_2018['Humidity']\n",
    "plt.scatter(x_values, y_values, marker=\"o\", facecolors=\"red\", edgecolor=\"black\")\n",
    "plt.title(f'Fire Location vs. Humidity {date_today}')\n",
    "plt.xlabel('Latitude')\n",
    "plt.ylabel('Humidity')\n",
    "plt.grid(True)\n",
    "plt.savefig(\"output_data/lat_vs_humidity.png\")\n",
    "plt.show()"
   ]
  },
  {
   "cell_type": "code",
   "execution_count": null,
   "metadata": {},
   "outputs": [],
   "source": [
    "# Create a Scatter Plot for fire size vs wind \n",
    "x_values = weather_2015['Lat']\n",
    "y_values = weather_2015['Wind Speed']\n",
    "plt.scatter(x_values, y_values, marker=\"o\", facecolors=\"red\", edgecolor=\"black\")\n",
    "plt.title(f'Fire Size vs. Wind Speed {date_today}')\n",
    "plt.xlabel('Fire Size')\n",
    "plt.ylabel('Wind Speed')\n",
    "plt.grid(True)\n",
    "plt.savefig(\"output_data/lat_vs_wind_speed.png\")\n",
    "plt.show()"
   ]
  },
  {
   "cell_type": "code",
   "execution_count": null,
   "metadata": {},
   "outputs": [],
   "source": [
    "# Create a Scatter Plot for fire size vs wind \n",
    "x_values = weather_2018['Lat']\n",
    "y_values = weather_2018['Wind Speed']\n",
    "plt.scatter(x_values, y_values, marker=\"o\", facecolors=\"red\", edgecolor=\"black\")\n",
    "plt.title(f'Fire Size vs. Wind Speed {date_today}')\n",
    "plt.xlabel('Fire Size')\n",
    "plt.ylabel('Wind Speed')\n",
    "plt.grid(True)\n",
    "plt.savefig(\"output_data/lat_vs_wind_speed.png\")\n",
    "plt.show()"
   ]
  }
 ],
 "metadata": {
  "kernelspec": {
   "display_name": "Python 3",
   "language": "python",
   "name": "python3"
  },
  "language_info": {
   "codemirror_mode": {
    "name": "ipython",
    "version": 3
   },
   "file_extension": ".py",
   "mimetype": "text/x-python",
   "name": "python",
   "nbconvert_exporter": "python",
   "pygments_lexer": "ipython3",
   "version": "3.8.2"
  }
 },
 "nbformat": 4,
 "nbformat_minor": 4
}
