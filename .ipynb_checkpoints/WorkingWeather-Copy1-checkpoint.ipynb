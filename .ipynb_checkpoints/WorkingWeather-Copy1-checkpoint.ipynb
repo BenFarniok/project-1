{
 "cells": [
  {
   "cell_type": "code",
   "execution_count": 1,
   "metadata": {},
   "outputs": [],
   "source": [
    "# Dependencies and Setup\n",
    "import requests\n",
    "import json\n",
    "import matplotlib.pyplot as plt\n",
    "import pandas as pd\n",
    "import numpy as np\n",
    "import requests\n",
    "import time\n",
    "from scipy.stats import linregress\n",
    "from datetime import date\n",
    "from scipy import stats\n"
   ]
  },
  {
   "cell_type": "code",
   "execution_count": null,
   "metadata": {},
   "outputs": [],
   "source": []
  },
  {
   "cell_type": "code",
   "execution_count": null,
   "metadata": {},
   "outputs": [],
   "source": [
    "# Create a Scatter Plot for temperature vs fire location - to show if lat/long has an impact (probably won't)\n",
    "x_values = weather_2015['Lat']\n",
    "y_values = weather_2015['Max Temp']\n",
    "plt.scatter(x_values, y_values, marker=\"o\", facecolors=\"red\", edgecolor=\"black\")\n",
    "plt.title(f'Fire Location vs. Temperature ')\n",
    "plt.xlabel('Latitude')\n",
    "plt.ylabel('Temperature')\n",
    "plt.grid(True)\n",
    "plt.savefig(\"output_data/lat_vs_temp.png\")\n",
    "plt.show()\n",
    "\n",
    "# Save the plot\n",
    "#plt.savefig(\"output_data/lat_vs_temp.png\")"
   ]
  },
  {
   "cell_type": "code",
   "execution_count": null,
   "metadata": {},
   "outputs": [],
   "source": [
    "# Create a Scatter Plot for temperature vs latitude - to show if lat/long has an impact (probably won't)\n",
    "x_values = weather_2018['Lat']\n",
    "y_values = weather_2018['Max Temp']\n",
    "plt.scatter(x_values, y_values, marker=\"o\", facecolors=\"red\", edgecolor=\"black\")\n",
    "plt.title(f'Fire Location vs. Temperature ')\n",
    "plt.xlabel('Latitude')\n",
    "plt.ylabel('Temperature')\n",
    "plt.grid(True)\n",
    "plt.savefig(\"output_data/lat_vs_temp.png\")\n",
    "plt.show()\n",
    "\n",
    "# Save the plot\n",
    "#plt.savefig(\"output_data/lat_vs_temp.png\")"
   ]
  },
  {
   "cell_type": "code",
   "execution_count": null,
   "metadata": {},
   "outputs": [],
   "source": [
    "# Create a Scatter Plot for fire location vs humidity\n",
    "x_values = weather_2015['Lat']\n",
    "y_values = weather_2015['Humidity']\n",
    "plt.scatter(x_values, y_values, marker=\"o\", facecolors=\"red\", edgecolor=\"black\")\n",
    "plt.title(f'Fire Location vs. Humidity {date_today}')\n",
    "plt.xlabel('Latitude')\n",
    "plt.ylabel('Humidity')\n",
    "plt.grid(True)\n",
    "plt.savefig(\"output_data/lat_vs_humidity.png\")\n",
    "plt.show()"
   ]
  },
  {
   "cell_type": "code",
   "execution_count": null,
   "metadata": {},
   "outputs": [],
   "source": [
    "# Create a Scatter Plot for fire location vs humidity\n",
    "x_values = weather_2018['Lat']\n",
    "y_values = weather_2018['Humidity']\n",
    "plt.scatter(x_values, y_values, marker=\"o\", facecolors=\"red\", edgecolor=\"black\")\n",
    "plt.title(f'Fire Location vs. Humidity {date_today}')\n",
    "plt.xlabel('Latitude')\n",
    "plt.ylabel('Humidity')\n",
    "plt.grid(True)\n",
    "plt.savefig(\"output_data/lat_vs_humidity.png\")\n",
    "plt.show()"
   ]
  },
  {
   "cell_type": "code",
   "execution_count": null,
   "metadata": {},
   "outputs": [],
   "source": [
    "# Create a Scatter Plot for fire size vs wind \n",
    "x_values = weather_2015['Lat']\n",
    "y_values = weather_2015['Wind Speed']\n",
    "plt.scatter(x_values, y_values, marker=\"o\", facecolors=\"red\", edgecolor=\"black\")\n",
    "plt.title(f'Fire Size vs. Wind Speed {date_today}')\n",
    "plt.xlabel('Fire Size')\n",
    "plt.ylabel('Wind Speed')\n",
    "plt.grid(True)\n",
    "plt.savefig(\"output_data/lat_vs_wind_speed.png\")\n",
    "plt.show()"
   ]
  },
  {
   "cell_type": "code",
   "execution_count": null,
   "metadata": {},
   "outputs": [],
   "source": [
    "# Create a Scatter Plot for fire size vs wind \n",
    "x_values = weather_2018['Lat']\n",
    "y_values = weather_2018['Wind Speed']\n",
    "plt.scatter(x_values, y_values, marker=\"o\", facecolors=\"red\", edgecolor=\"black\")\n",
    "plt.title(f'Fire Size vs. Wind Speed {date_today}')\n",
    "plt.xlabel('Fire Size')\n",
    "plt.ylabel('Wind Speed')\n",
    "plt.grid(True)\n",
    "plt.savefig(\"output_data/lat_vs_wind_speed.png\")\n",
    "plt.show()"
   ]
  }
 ],
 "metadata": {
  "kernelspec": {
   "display_name": "Python 3",
   "language": "python",
   "name": "python3"
  },
  "language_info": {
   "codemirror_mode": {
    "name": "ipython",
    "version": 3
   },
   "file_extension": ".py",
   "mimetype": "text/x-python",
   "name": "python",
   "nbconvert_exporter": "python",
   "pygments_lexer": "ipython3",
   "version": "3.8.2"
  }
 },
 "nbformat": 4,
 "nbformat_minor": 4
}
