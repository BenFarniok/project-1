{
 "cells": [
  {
   "cell_type": "code",
   "execution_count": null,
   "metadata": {},
   "outputs": [],
   "source": [
    "# Dependencies and Setup\n",
    "import matplotlib.pyplot as plt\n",
    "import pandas as pd\n",
    "import numpy as np\n",
    "import requests\n",
    "import gmaps\n",
    "import os\n",
    "import gmaps.datasets\n"
   ]
  },
  {
   "cell_type": "code",
   "execution_count": null,
   "metadata": {},
   "outputs": [],
   "source": [
    "weather_2015_df['County'] = \"name\"\n",
    "weather_2015_df['Start Date'] = \"mindate\"\n",
    "weather_2015_df['End Date'] = \"maxdate\"\n",
    "weather_2015_df.head()"
   ]
  },
  {
   "cell_type": "code",
   "execution_count": 4,
   "metadata": {},
   "outputs": [
    {
     "ename": "NameError",
     "evalue": "name 'token' is not defined",
     "output_type": "error",
     "traceback": [
      "\u001b[0;31m---------------------------------------------------------------------------\u001b[0m",
      "\u001b[0;31mNameError\u001b[0m                                 Traceback (most recent call last)",
      "\u001b[0;32m<ipython-input-4-569e7e594c38>\u001b[0m in \u001b[0;36m<module>\u001b[0;34m\u001b[0m\n\u001b[0;32m----> 1\u001b[0;31m \u001b[0murl\u001b[0m \u001b[0;34m=\u001b[0m \u001b[0;34m\"https://www.ncdc.noaa.gov/cdo-web/api/v2/\"\u001b[0m \u001b[0;34m+\u001b[0m \u001b[0mtoken\u001b[0m\u001b[0;34m\u001b[0m\u001b[0;34m\u001b[0m\u001b[0m\n\u001b[0m",
      "\u001b[0;31mNameError\u001b[0m: name 'token' is not defined"
     ]
    }
   ],
   "source": [
    "from wwo_hist import retrieve_hist_data\n",
    "frequency=24\n",
    "start_date = '01-JAN-2010'\n",
    "end_date = '31-DEC-2010'\n",
    "api_key = 'ab7ca87a4f454f2583001034202104'\n",
    "location_list = ['california']\n",
    "\n",
    "hist_weather_data_2010 = retrieve_hist_data(api_key,\n",
    "                                location_list,\n",
    "                                start_date,\n",
    "                                end_date,\n",
    "                                frequency,\n",
    "                                location_label = False,\n",
    "                                export_csv = True,\n",
    "                                store_df = True)"
   ]
  },
  {
   "cell_type": "code",
   "execution_count": null,
   "metadata": {},
   "outputs": [],
   "source": [
    "\n",
    "            \n",
    "\n",
    "base_url = \"https://www.ncdc.noaa.gov/cdo-web/api/v2/\"\n",
    "\n",
    "# set up a parameters dictionary\n",
    "params = {\n",
    "    \"startdate\": start_date,\n",
    "    \"enddate\": end_date,\n",
    "    \"token\": token,\n",
    "    \"location\": locationID,\n",
    "    \"units\": standard \n",
    "}\n",
    "# use iterrows to iterate through pandas dataframe\n",
    "for index, row in weather_2015_df.iterrows():\n",
    "    locationID = \n",
    "    params[\"location\"] = (f\"{locationID}\")\n",
    "    # assemble url and make API request\n",
    "        print(f\"Retrieving Results for Index {index}: {county}.\")\n",
    "        response = requests.get(base_url, params=params).json()\n",
    "        print(response)  \n",
    "    # extract results\n",
    "        name = response['results'][0][\"name\"]\n",
    "        weather_2015.loc[index,'County'] = name   "
   ]
  }
 ],
 "metadata": {
  "kernelspec": {
   "display_name": "Python 3",
   "language": "python",
   "name": "python3"
  },
  "language_info": {
   "codemirror_mode": {
    "name": "ipython",
    "version": 3
   },
   "file_extension": ".py",
   "mimetype": "text/x-python",
   "name": "python",
   "nbconvert_exporter": "python",
   "pygments_lexer": "ipython3",
   "version": "3.8.2"
  }
 },
 "nbformat": 4,
 "nbformat_minor": 4
}
